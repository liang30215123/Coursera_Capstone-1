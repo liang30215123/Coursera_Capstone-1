{
 "cells": [
  {
   "cell_type": "markdown",
   "metadata": {},
   "source": [
    "<div id=\"capstone_business_problem\">\n",
    "    <h1>Capstone - Seattle Traffic Accident Severity Prediction</h1>\n",
    "    <h2>1. Introduction</h2>\n",
    "    Do you live in a safe city? Can your children walk safe and free? Is Seattle a city for tourists? So many questions and maybe no answer now. <br>In the past 5 years, Seattle has received many complaints about unsafe neighborhoods, most of them related to car accidents. In addition, the big car rental companies complain that last quarter, tourists no longer rent cars since Seattle is one of the cities with the most car collisions in the United States. With all of this in mind, the top priority for Seattle's municipal government is to ensure that it can reduce the large number of accidents and return to being the safe city it was before.<br> \n",
    "    <h2>2. Business Problem</h2>\n",
    "    The objective of this capstone project is to analyze and study the collision dataset for the city of Seattle, Washington and find patterns and determinate key factors such as weather, visibility, and road conditions to create the best traffic accident severity prediction. It will use various analytical techniques and machine learning classification algorithms such as k-nearest-neighbors, Support Vector Machine, etc.\n",
    "    <br>\n",
    "    This project will build on and study the possible answers to the following question: How can the city of Seattle create the best model prediction of Traffic Accident Severity and how can it improve to address this issue?\n",
    "    <br>\n",
    "    After this study, we can provide the result to different goverment departments, rental car companies, insurance companies and emergency contacts as well.\n",
    "</div>"
   ]
  },
  {
   "cell_type": "code",
   "execution_count": null,
   "metadata": {},
   "outputs": [],
   "source": []
  }
 ],
 "metadata": {
  "kernelspec": {
   "display_name": "Python",
   "language": "python",
   "name": "conda-env-python-py"
  },
  "language_info": {
   "codemirror_mode": {
    "name": "ipython",
    "version": 3
   },
   "file_extension": ".py",
   "mimetype": "text/x-python",
   "name": "python",
   "nbconvert_exporter": "python",
   "pygments_lexer": "ipython3",
   "version": "3.6.11"
  }
 },
 "nbformat": 4,
 "nbformat_minor": 4
}
